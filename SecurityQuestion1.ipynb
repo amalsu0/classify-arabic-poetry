{
  "nbformat": 4,
  "nbformat_minor": 0,
  "metadata": {
    "colab": {
      "name": "SecurityQuestion1.ipynb",
      "provenance": [],
      "collapsed_sections": [],
      "include_colab_link": true
    },
    "kernelspec": {
      "name": "python3",
      "display_name": "Python 3"
    },
    "language_info": {
      "name": "python"
    }
  },
  "cells": [
    {
      "cell_type": "markdown",
      "metadata": {
        "id": "view-in-github",
        "colab_type": "text"
      },
      "source": [
        "<a href=\"https://colab.research.google.com/github/amalsu0/classify-arabic-poetry/blob/master/SecurityQuestion1.ipynb\" target=\"_parent\"><img src=\"https://colab.research.google.com/assets/colab-badge.svg\" alt=\"Open In Colab\"/></a>"
      ]
    },
    {
      "cell_type": "code",
      "metadata": {
        "id": "5JYjxY7CxWs_",
        "colab": {
          "base_uri": "https://localhost:8080/"
        },
        "outputId": "aa4b89ef-f53e-4c9e-b0a3-97b3dfe6355c"
      },
      "source": [
        "pip install pycrypto"
      ],
      "execution_count": null,
      "outputs": [
        {
          "output_type": "stream",
          "text": [
            "Requirement already satisfied: pycrypto in /usr/local/lib/python3.7/dist-packages (2.6.1)\n"
          ],
          "name": "stdout"
        }
      ]
    },
    {
      "cell_type": "code",
      "metadata": {
        "id": "02rESZQjX2hy"
      },
      "source": [
        "from Crypto.Cipher import AES"
      ],
      "execution_count": null,
      "outputs": []
    },
    {
      "cell_type": "code",
      "metadata": {
        "id": "piIkWTIedWwG",
        "colab": {
          "base_uri": "https://localhost:8080/"
        },
        "outputId": "31113e91-6dc3-4805-f0c1-8c89ac648144"
      },
      "source": [
        "# read mykey from file and print it \n",
        "with open('key.dat', 'rb') as my_key:\n",
        "    key = my_key.read()\n",
        "\n",
        "# read mycipher from file and print it\n",
        "with open('ciphertext.dat', 'rb') as my_cipher:\n",
        "    mycipher = my_cipher.read()\n",
        "  \n",
        "decipher = AES.new(key, AES.MODE_ECB)\n",
        "msg = decipher.decrypt(mycipher)\n",
        "\n",
        "print(msg.decode())"
      ],
      "execution_count": null,
      "outputs": [
        {
          "output_type": "stream",
          "text": [
            "The Advanced Encryption Standard (AES), also known as Rijndael, is a block cipher adopted as an encryption standard by the U.S. government. It has been analyzed extensively and is now used widely worldwide\u0003\u0003\u0003\n"
          ],
          "name": "stdout"
        }
      ]
    }
  ]
}